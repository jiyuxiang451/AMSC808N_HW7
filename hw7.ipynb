{
  "cells": [
    {
      "cell_type": "code",
      "execution_count": 104,
      "metadata": {
        "id": "XRzFYudeujbT"
      },
      "outputs": [],
      "source": [
        "import numpy as np"
      ]
    },
    {
      "cell_type": "markdown",
      "metadata": {
        "id": "dgcIBLUL0svi"
      },
      "source": [
        "Below is for question 2."
      ]
    },
    {
      "cell_type": "code",
      "execution_count": 142,
      "metadata": {
        "id": "ZArXJ_VYzIyf"
      },
      "outputs": [],
      "source": [
        " p = 0.5 # p denotes p1, so 1-p is p3\n",
        " n = 10000 # n is the number of vertices.  "
      ]
    },
    {
      "cell_type": "code",
      "execution_count": 143,
      "metadata": {
        "id": "74KMLycq0rwW"
      },
      "outputs": [],
      "source": [
        "v = np.ones(n, dtype=int) # generate vertices with degrees\n",
        "for i in range(len(v)):\n",
        "    tmp = np.random.uniform()\n",
        "    if tmp > p:\n",
        "        v[i] = 3 \n",
        "# v        "
      ]
    },
    {
      "cell_type": "code",
      "execution_count": 144,
      "metadata": {
        "id": "20Mlvuq6QS0y"
      },
      "outputs": [],
      "source": [
        "dic = {}\n",
        "for i in range(len(v)-3):\n",
        "    while v[i] > 0:\n",
        "        j = np.random.randint(0, len(v))\n",
        "        count = 0\n",
        "        while i == j or v[j] <= 0 or (i in dic and j in dic[i]):\n",
        "            j = (j+1) % len(v)\n",
        "            count += 1\n",
        "            if count > len(v):\n",
        "                break\n",
        "        if count > len(v):\n",
        "            break\n",
        "        # print(\"connect\", i, j)\n",
        "        v[i] -= 1\n",
        "        v[j] -= 1\n",
        "        # print(v[i], v[j])\n",
        "        if i not in dic:\n",
        "            dic[i] = [j]\n",
        "        else:\n",
        "            dic[i] += [j]\n",
        "        if j not in dic:\n",
        "            dic[j] = [i]\n",
        "        else:\n",
        "            dic[j] += [i]\n",
        "# print(dic)\n",
        "# print(v)"
      ]
    },
    {
      "cell_type": "code",
      "execution_count": 145,
      "metadata": {
        "colab": {
          "base_uri": "https://localhost:8080/"
        },
        "id": "BJ1Iiay1Jz0u",
        "outputId": "16a59d9a-185f-4130-c868-9c1d55f9e325"
      },
      "outputs": [
        {
          "data": {
            "text/plain": [
              "[3092]"
            ]
          },
          "execution_count": 145,
          "metadata": {},
          "output_type": "execute_result"
        }
      ],
      "source": [
        "dic[507]"
      ]
    },
    {
      "cell_type": "code",
      "execution_count": 146,
      "metadata": {
        "colab": {
          "base_uri": "https://localhost:8080/",
          "height": 433
        },
        "id": "hLo9sD1D1dtC",
        "outputId": "a2c4fdce-d598-49e0-ae5c-ad6881d98787"
      },
      "outputs": [
        {
          "name": "stdout",
          "output_type": "stream",
          "text": [
            "4\n",
            "2\n",
            "7906\n",
            "2\n",
            "7906\n",
            "2\n",
            "7906\n",
            "4\n",
            "2\n",
            "7906\n"
          ]
        }
      ],
      "source": [
        "visited = np.zeros(len(v), dtype=int)\n",
        "v_deg = np.zeros(len(v)-10, dtype=int)\n",
        "for k in range(len(v)-10):\n",
        "    # rnd_vtx = np.random.randint(0, len(v)-3)\n",
        "    vtx = k\n",
        "    v_deg[k] = dfs_v2(vtx, visited, dic)\n",
        "    # print('vertex is:', rnd_vtx)\n",
        "    # size = 0\n",
        "    # dfs(rnd_vtx, visited, dic)\n",
        "    # print('component size is:', size)\n",
        "    # visited = np.zeros(len(v), dtype=int)\n",
        "    # print('component size is:', dfs_v2(rnd_vtx, visited, dic))\n",
        "    visited = np.zeros(len(v), dtype=int)\n",
        "for i in range(10):\n",
        "    print(v_deg[i])    "
      ]
    },
    {
      "cell_type": "code",
      "execution_count": 147,
      "metadata": {},
      "outputs": [
        {
          "data": {
            "text/plain": [
              "array([[   2, 1133],\n",
              "       [   4,  592],\n",
              "       [   6,  144],\n",
              "       [   8,   80],\n",
              "       [  10,   20],\n",
              "       [  12,   84],\n",
              "       [  16,   16],\n",
              "       [  24,   24],\n",
              "       [7906, 7897]])"
            ]
          },
          "execution_count": 147,
          "metadata": {},
          "output_type": "execute_result"
        }
      ],
      "source": [
        "# len(v_deg)\n",
        "# type(v_deg)\n",
        "np.array(np.unique(v_deg, return_counts=True)).T"
      ]
    },
    {
      "cell_type": "code",
      "execution_count": 148,
      "metadata": {
        "id": "eTOtvFu0-vYg"
      },
      "outputs": [],
      "source": [
        "def dfs_old(vtx, visited, dic, size):\n",
        "    if visited[vtx] == 1:\n",
        "        return size\n",
        "    visited[vtx] = 1\n",
        "    ans = 1\n",
        "    # print(\"vtx\", vtx, \"dic\", dic[vtx])\n",
        "    # print(\"size\", size)\n",
        "    for item in dic[vtx]:\n",
        "        if visited[item] == 0:\n",
        "            ans += dfs(item, visited, dic, size)\n",
        "    return ans        \n",
        "\n",
        "def dfs(vtx, visited, dic):\n",
        "    global size\n",
        "    if visited[vtx] == 1:\n",
        "        return\n",
        "    visited[vtx] = 1\n",
        "    size += 1\n",
        "    for item in dic[vtx]:\n",
        "        if visited[item] == 0:\n",
        "            dfs(item, visited, dic)\n",
        "    return\n",
        "\n",
        "def dfs_v2(vtx, visited, dic):\n",
        "    if visited[vtx] == 1:\n",
        "        return 0\n",
        "    visited[vtx] = 1\n",
        "    ans = 1\n",
        "    for item in dic[vtx]:\n",
        "        if visited[item] == 0:\n",
        "            ans += dfs_v2(item, visited, dic)\n",
        "    return ans "
      ]
    },
    {
      "cell_type": "code",
      "execution_count": 149,
      "metadata": {},
      "outputs": [],
      "source": [
        "def gant_sze(p):\n",
        "    return (p ** 2) * (9 - 8 * p) / (27 * (1-p) ** 2)"
      ]
    },
    {
      "cell_type": "code",
      "execution_count": 150,
      "metadata": {},
      "outputs": [
        {
          "name": "stdout",
          "output_type": "stream",
          "text": [
            "0.18518518518518517\n"
          ]
        }
      ],
      "source": [
        "print(gant_sze(p))\n",
        "# 36 * 4.2 / (27 * 16)"
      ]
    },
    {
      "cell_type": "code",
      "execution_count": 151,
      "metadata": {
        "id": "kZ8ilcMY-vyz"
      },
      "outputs": [],
      "source": [
        "# dfs(0, [0, 0, 0, 0], {0:[1], 1:[0, 2], 2:[1, 3], 3:[2]}, 0)"
      ]
    },
    {
      "cell_type": "code",
      "execution_count": 152,
      "metadata": {
        "colab": {
          "base_uri": "https://localhost:8080/"
        },
        "id": "ih0C3nZ0GcdP",
        "outputId": "f0aa65d5-e892-4ad5-8e31-33e2178a0711"
      },
      "outputs": [],
      "source": [
        "# visited = np.zeros(len(v), dtype=int)\n",
        "# size = 0\n",
        "# dfs(0, visited, dic)\n",
        "# print(size)\n",
        "# visited = np.zeros(len(v), dtype=int)\n",
        "# print(dfs_v2(0, visited, dic))"
      ]
    },
    {
      "cell_type": "code",
      "execution_count": 153,
      "metadata": {},
      "outputs": [],
      "source": [
        "def H(z, p):\n",
        "    a = p / (3 - 2 * p)\n",
        "    b = (3 - 3 * p) / (3 - 2 * p)\n",
        "    H_1z = (2 * a * z) / (1 + np.sqrt(1 - 4 * a * b * z * z))\n",
        "    H_0z = z * (p * H_1z + (1 - p) * np.power(H_1z, 3))\n",
        "    return H_0z"
      ]
    },
    {
      "cell_type": "code",
      "execution_count": 154,
      "metadata": {},
      "outputs": [],
      "source": [
        "def trapezoidal(f, a, b, n, p, s):\n",
        "    h = (b-a)/n\n",
        "    result = 0.5*f(np.exp(a*1j), p)/np.exp(s*a*1j) + 0.5*f(np.exp(b*1j), p)/np.exp(s*b*1j)\n",
        "    for i in range(1, n): \n",
        "        result = result + f(np.exp((a + i*h)*1j), p) / np.exp(s*(a + i*h)*1j)\n",
        "    integral = h*result\n",
        "    return integral"
      ]
    },
    {
      "cell_type": "code",
      "execution_count": 155,
      "metadata": {},
      "outputs": [
        {
          "data": {
            "text/plain": [
              "(0.1250000000000001+1.6176296413483728e-18j)"
            ]
          },
          "execution_count": 155,
          "metadata": {},
          "output_type": "execute_result"
        }
      ],
      "source": [
        "trapezoidal(H, 0, 2*np.pi, 400, p, 2) / (2 * np.pi)"
      ]
    },
    {
      "cell_type": "code",
      "execution_count": 156,
      "metadata": {},
      "outputs": [
        {
          "name": "stdout",
          "output_type": "stream",
          "text": [
            "1.637578961322106e-17\n",
            "0.1250000000000001\n",
            "1.7347234759768074e-17\n",
            "0.03125000000000001\n",
            "1.0685896612017132e-17\n",
            "0.013183593749999993\n",
            "4.23272528138341e-18\n",
            "0.0065917968750000095\n",
            "1.672273430841642e-17\n",
            "0.0036048889160156354\n",
            "1.0061396160665481e-17\n",
            "0.0020856857299804783\n",
            "1.0200174038743627e-17\n",
            "0.0012546703219413807\n",
            "1.4432899320127036e-17\n",
            "0.0007767006754875306\n",
            "8.118505867571458e-18\n",
            "0.000491505896206956\n",
            "2.844946500601964e-18\n",
            "0.00031650000892114594\n",
            "1.2698175844150228e-17\n",
            "0.00020671406832661023\n",
            "8.812395257962182e-18\n",
            "0.000136604751446619\n",
            "7.0082828429463e-18\n",
            "9.117147473781542e-05\n",
            "7.632783294297952e-18\n",
            "6.136541568890367e-05\n",
            "-8.257283745649603e-18\n",
            "4.160657369532563e-05\n",
            "3.677613769070831e-18\n",
            "2.8390367933287188e-05\n",
            "-1.575128916186941e-17\n",
            "1.948141132921945e-05\n",
            "1.1379786002407855e-17\n",
            "1.3434936141112283e-05\n",
            "3.00454106039183e-17\n",
            "9.306492222743435e-06\n",
            "7.632783294297952e-18\n",
            "6.472560380502285e-06\n",
            "-3.1225022567582534e-17\n",
            "4.517920697174882e-06\n",
            "-6.397660179402465e-17\n",
            "3.163947569176512e-06\n",
            "7.577272143066695e-17\n",
            "2.222403512743207e-06\n",
            "4.2951753265185746e-17\n",
            "1.5653450830049183e-06\n",
            "2.990663272584016e-17\n",
            "1.1053368225120987e-06\n",
            "-4.454769886308441e-17\n",
            "7.823328398509633e-07\n",
            "4.010680676458378e-17\n",
            "5.549136265869947e-07\n",
            "6.286637876939949e-17\n",
            "3.9439263504151277e-07\n",
            "2.2204460492503132e-17\n",
            "2.808286843189456e-07\n",
            "-2.421673972463623e-17\n",
            "2.0031300755566502e-07\n",
            "5.342948306008566e-18\n",
            "1.4311425423262083e-07\n",
            "-1.02695629777827e-17\n",
            "1.0240433440906334e-07\n",
            "2.6992297286199122e-17\n",
            "7.337957651860211e-08\n",
            "1.102937186026054e-16\n",
            "5.265222857361863e-08\n",
            "6.415007414162233e-17\n",
            "3.7827658111166956e-08\n",
            "-1.4179629692634423e-16\n",
            "2.720962437578745e-08\n",
            "3.7400638142059965e-17\n",
            "1.9594211390847052e-08\n",
            "-1.2559397966072085e-17\n",
            "1.4125348769856995e-08\n",
            "1.2781442570997116e-16\n",
            "1.0193251340877287e-08\n",
            "-7.886052921790566e-17\n",
            "7.362855128645319e-09\n",
            "3.4347524824340784e-18\n",
            "5.323278219702271e-09\n",
            "1.4098097689263513e-16\n",
            "3.852054798556687e-09\n",
            "2.3904489498960404e-16\n",
            "2.7897693695780327e-09\n",
            "6.78623823802127e-17\n",
            "2.0220423055730687e-09\n",
            "3.12423698023423e-17\n",
            "1.4667048077454672e-09\n",
            "3.7400638142059965e-17\n",
            "1.0646612127150623e-09\n",
            "2.838874968436045e-17\n",
            "7.733619676077164e-10\n",
            "1.6216195053431196e-16\n",
            "5.621402678502447e-10\n",
            "1.654058834343886e-17\n",
            "4.0886899591724427e-10\n",
            "1.245054406795454e-16\n",
            "0.18518518408615925\n"
          ]
        }
      ],
      "source": [
        "fnl_sm = 0\n",
        "for k in range(1, 100):\n",
        "    fnl_sm += np.real(trapezoidal(H, 0, 2*np.pi, 400, p, k) / (2 * np.pi))\n",
        "    print(np.real(trapezoidal(H, 0, 2*np.pi, 400, p, k) / (2 * np.pi)))\n",
        "print(fnl_sm)    "
      ]
    },
    {
      "cell_type": "code",
      "execution_count": null,
      "metadata": {},
      "outputs": [],
      "source": []
    }
  ],
  "metadata": {
    "colab": {
      "collapsed_sections": [],
      "name": "hw7.ipynb",
      "provenance": []
    },
    "kernelspec": {
      "display_name": "Python 3",
      "name": "python3"
    },
    "language_info": {
      "codemirror_mode": {
        "name": "ipython",
        "version": 3
      },
      "file_extension": ".py",
      "mimetype": "text/x-python",
      "name": "python",
      "nbconvert_exporter": "python",
      "pygments_lexer": "ipython3",
      "version": "3.8.2"
    }
  },
  "nbformat": 4,
  "nbformat_minor": 0
}
